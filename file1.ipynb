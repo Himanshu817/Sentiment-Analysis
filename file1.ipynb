#This the Fiirst file to be executed 
#This script gathers the data from a file line by line

import re
import pandas as pd 
import numpy as np 
import matplotlib.pyplot as plt 
import seaborn as sns
import string
import nltk
import warnings 
warnings.filterwarnings("ignore", category=DeprecationWarning)

%matplotlib inline

train  = pd.read_csv('train_initial.csv')
test = pd.read_csv('test_tweets_anuFYb8.csv')

train.head()
